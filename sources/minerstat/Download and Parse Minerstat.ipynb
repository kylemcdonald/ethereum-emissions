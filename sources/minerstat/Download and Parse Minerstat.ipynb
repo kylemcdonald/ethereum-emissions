{
 "cells": [
  {
   "cell_type": "code",
   "execution_count": 1,
   "id": "hindu-truck",
   "metadata": {},
   "outputs": [],
   "source": [
    "!wget --quiet -O minerstat.com/gpus.html https://minerstat.com/hardware/gpus?algo=Ethash\n",
    "!wget --quiet -O minerstat.com/asics.html https://minerstat.com/hardware/asics?algo=Ethash"
   ]
  },
  {
   "cell_type": "code",
   "execution_count": 1,
   "id": "baking-brisbane",
   "metadata": {},
   "outputs": [],
   "source": [
    "from bs4 import BeautifulSoup\n",
    "import pandas as pd"
   ]
  },
  {
   "cell_type": "code",
   "execution_count": 2,
   "id": "natural-institution",
   "metadata": {},
   "outputs": [],
   "source": [
    "def load_minerstat(fn):\n",
    "    with open(fn) as f:\n",
    "        data = BeautifulSoup(f.read(), 'html.parser')\n",
    "        \n",
    "    for elt in data.select('.tr')[1:]:\n",
    "        hardware = elt.select('.flexHardware')[0].text.strip()\n",
    "        hashrate = elt.select('.flexHashrate')[0].text.split(' ')[0]\n",
    "        power = elt.select('.flexPower')[0].text.split('W')[0]\n",
    "        yield {\n",
    "            'hardware': hardware,\n",
    "            'hashrate': hashrate,\n",
    "            'power': power\n",
    "        }\n",
    "        \n",
    "pd.concat((\n",
    "    pd.DataFrame(load_minerstat('minerstat.com/asics.html')),\n",
    "    pd.DataFrame(load_minerstat('minerstat.com/gpus.html'))\n",
    ")).to_csv('minerstat.com/minerstat.csv', index=False)"
   ]
  }
 ],
 "metadata": {
  "kernelspec": {
   "display_name": "Python 3",
   "language": "python",
   "name": "python3"
  },
  "language_info": {
   "codemirror_mode": {
    "name": "ipython",
    "version": 3
   },
   "file_extension": ".py",
   "mimetype": "text/x-python",
   "name": "python",
   "nbconvert_exporter": "python",
   "pygments_lexer": "ipython3",
   "version": "3.7.3"
  }
 },
 "nbformat": 4,
 "nbformat_minor": 5
}
