{
 "cells": [
  {
   "cell_type": "code",
   "execution_count": 3,
   "id": "antique-better",
   "metadata": {},
   "outputs": [],
   "source": [
    "!wget --quiet -O profit-mine.com/hardwares.json 'https://profit-mine.com/api/hardwares'"
   ]
  },
  {
   "cell_type": "code",
   "execution_count": 9,
   "id": "imposed-juvenile",
   "metadata": {},
   "outputs": [],
   "source": [
    "import json\n",
    "import pandas as pd\n",
    "\n",
    "with open('profit-mine.com/hardwares.json') as f:\n",
    "    hardwares = json.load(f)\n",
    "    \n",
    "data = []\n",
    "for hw in hardwares:\n",
    "    name = hw['name']\n",
    "    release = hw['releaseDate']\n",
    "    for hr in hw['hashrates']:\n",
    "        if hr['name'] == 'Ethash':\n",
    "            hashrate = hr['hashrate']\n",
    "            power = hr['power']\n",
    "            data.append([name, release, hashrate, power])\n",
    "            \n",
    "cols = ['Name', 'Release', 'Hashrate', 'Power']\n",
    "pd.DataFrame(data, columns=cols).to_csv('profit-mine.com/hardwares.csv', index=False)"
   ]
  }
 ],
 "metadata": {
  "kernelspec": {
   "display_name": "Python 3",
   "language": "python",
   "name": "python3"
  },
  "language_info": {
   "codemirror_mode": {
    "name": "ipython",
    "version": 3
   },
   "file_extension": ".py",
   "mimetype": "text/x-python",
   "name": "python",
   "nbconvert_exporter": "python",
   "pygments_lexer": "ipython3",
   "version": "3.7.3"
  }
 },
 "nbformat": 4,
 "nbformat_minor": 5
}
