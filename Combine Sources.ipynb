{
 "cells": [
  {
   "cell_type": "markdown",
   "id": "isolated-expression",
   "metadata": {},
   "source": [
    "Given all the benchmarks and reference data, compile it all into one big spreadsheet with each row as one mining device."
   ]
  },
  {
   "cell_type": "code",
   "execution_count": 1,
   "id": "dynamic-addiction",
   "metadata": {},
   "outputs": [],
   "source": [
    "import pandas as pd\n",
    "import numpy as np"
   ]
  },
  {
   "cell_type": "code",
   "execution_count": 2,
   "id": "explicit-institute",
   "metadata": {},
   "outputs": [],
   "source": [
    "benchmarks = pd.read_csv('data/benchmarks.csv')"
   ]
  },
  {
   "cell_type": "code",
   "execution_count": 3,
   "id": "incident-planet",
   "metadata": {},
   "outputs": [],
   "source": [
    "reference = pd.read_csv('data/reference.csv')\n",
    "reference = {e['Model']: {\n",
    "    'power': float(e['Power (Watts)']),\n",
    "    'release': pd.to_datetime(e['Release'])\n",
    "} for e in reference.to_dict(orient='records')}"
   ]
  },
  {
   "cell_type": "code",
   "execution_count": 4,
   "id": "applied-titanium",
   "metadata": {},
   "outputs": [],
   "source": [
    "from collections import defaultdict\n",
    "\n",
    "combined = defaultdict(dict)\n",
    "\n",
    "for e in benchmarks.to_dict(orient='records'):\n",
    "    model = e['Reference Model']\n",
    "    if model not in reference:\n",
    "        continue\n",
    "    power = e['Power (Watts)']\n",
    "    hashrate = e['Hashrate (Mh)']\n",
    "    source = e['Source']\n",
    "    combined[model].update({\n",
    "        'power ' + source: power,\n",
    "        'hashrate ' + source: hashrate,\n",
    "        'power reference': reference[model]['power'],\n",
    "        'release reference': reference[model]['release']\n",
    "    })"
   ]
  },
  {
   "cell_type": "code",
   "execution_count": 6,
   "id": "rolled-brown",
   "metadata": {},
   "outputs": [],
   "source": [
    "pd.DataFrame(combined).T.to_csv('output/combined.csv')"
   ]
  }
 ],
 "metadata": {
  "kernelspec": {
   "display_name": "Python 3",
   "language": "python",
   "name": "python3"
  },
  "language_info": {
   "codemirror_mode": {
    "name": "ipython",
    "version": 3
   },
   "file_extension": ".py",
   "mimetype": "text/x-python",
   "name": "python",
   "nbconvert_exporter": "python",
   "pygments_lexer": "ipython3",
   "version": "3.7.3"
  }
 },
 "nbformat": 4,
 "nbformat_minor": 5
}
